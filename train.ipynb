{
  "cells": [
    {
      "cell_type": "code",
      "execution_count": null,
      "metadata": {
        "colab": {
          "base_uri": "https://localhost:8080/"
        },
        "id": "6I4RFvqLGjCm",
        "outputId": "c116f628-a6ff-4412-aa1f-cb46e537180e"
      },
      "outputs": [],
      "source": [
        "%pip install mediapipe\n",
        "%pip install opencv-python\n",
        "%pip install numpy\n",
        "%pip install keras\n",
        "%pip install tensorflow\n",
        "%pip install scikit-learn"
      ]
    },
    {
      "cell_type": "code",
      "execution_count": 2,
      "metadata": {
        "id": "sVytFRpPb0wr"
      },
      "outputs": [],
      "source": [
        "import cv2 as cv\n",
        "import numpy as np\n",
        "import tensorflow as tf\n",
        "import mediapipe as mp\n",
        "import os\n",
        "from sklearn.model_selection import train_test_split\n",
        "from tensorflow.keras.callbacks import EarlyStopping"
      ]
    },
    {
      "cell_type": "code",
      "execution_count": 3,
      "metadata": {
        "id": "1g0QHQZEauvK"
      },
      "outputs": [],
      "source": [
        "CATEGORIES = [\"hello\", \"yes\", \"no\", \"iloveyou\", \"callme\", \"goodjob\", \"highfive\", \"dislike\", \"peace\"]\n",
        "NUM_CATS = len(CATEGORIES)"
      ]
    },
    {
      "cell_type": "code",
      "execution_count": 4,
      "metadata": {
        "id": "a-JzjGyMGw2-"
      },
      "outputs": [],
      "source": [
        "mpHands = mp.solutions.hands\n",
        "hands = mpHands.Hands()"
      ]
    },
    {
      "cell_type": "code",
      "execution_count": 5,
      "metadata": {},
      "outputs": [],
      "source": [
        "def get_landmark_array(landmarks):\n",
        "  arr = []\n",
        "  for l in landmarks:\n",
        "    arr.append([l.x, l.y, l.z])\n",
        "  return np.array(arr)"
      ]
    },
    {
      "cell_type": "code",
      "execution_count": 6,
      "metadata": {},
      "outputs": [],
      "source": [
        "def rotated(img, angle):\n",
        "    h, w = img.shape[:2]\n",
        "    rotation_matrix = cv.getRotationMatrix2D((w / 2, h / 2), angle, 1)\n",
        "    return cv.warpAffine(img, rotation_matrix, (w, h))"
      ]
    },
    {
      "cell_type": "code",
      "execution_count": 8,
      "metadata": {
        "id": "G29fLQTbcBaj"
      },
      "outputs": [],
      "source": [
        "def load_train_data(data_dir):\n",
        "\n",
        "    landmarks = []\n",
        "    labels = []\n",
        "    i = 0\n",
        "    count = 0\n",
        "    for label in CATEGORIES:\n",
        "        print(label, end=\" \")\n",
        "        pictures = os.listdir(os.path.join(data_dir, label))\n",
        "        for pic in pictures:\n",
        "            img = cv.imread(os.path.join(data_dir, label, pic))\n",
        "            \n",
        "\n",
        "\n",
        "            imgRGB = cv.cvtColor(img, cv.COLOR_BGR2RGB)\n",
        "            imgflipped = cv.flip(imgRGB, 1)\n",
        "            imgRotated1 = rotated(imgRGB, 10)\n",
        "            imgRotated2 = rotated(imgRGB, -10)\n",
        "            imgZoom2p = cv.resize(imgRGB, None, fx=1.1, fy=1.1, interpolation=cv.INTER_LINEAR)\n",
        "            imgZoomxp = cv.resize(imgRGB, None, fx=1.1, fy=1, interpolation=cv.INTER_LINEAR)\n",
        "            imgZoomyp = cv.resize(imgRGB, None, fx=1, fy=1.1, interpolation=cv.INTER_LINEAR)\n",
        "            imgZoomxn = cv.resize(imgRGB, None, fx=0.9, fy=1, interpolation=cv.INTER_LINEAR)\n",
        "            imgZoomyn = cv.resize(imgRGB, None, fx=1, fy=0.9, interpolation=cv.INTER_LINEAR)\n",
        "            imgZoom2n = cv.resize(imgRGB, None, fx=0.9, fy=0.9, interpolation=cv.INTER_LINEAR)\n",
        "            imgZoom2xp = cv.resize(imgRGB, None, fx=0.8, fy=0.8, interpolation=cv.INTER_LINEAR)\n",
        "            imgZoom2xn = cv.resize(imgRGB, None, fx=1.2, fy=1.2, interpolation=cv.INTER_LINEAR)\n",
        "\n",
        "\n",
        "            AugmentedImages = [imgRGB, imgflipped, imgRotated1, imgRotated2, imgZoom2p, imgZoomxp, imgZoomyp, imgZoomxn, imgZoomyn, imgZoom2n, imgZoom2xp, imgZoom2xn]            \n",
        "\n",
        "            for image in AugmentedImages:\n",
        "                result = hands.process(image)\n",
        "                if result.multi_hand_landmarks:\n",
        "                    count += 1\n",
        "                    landmarks.append(get_landmark_array(result.multi_hand_landmarks[0].landmark))\n",
        "                    labels.append(i)\n",
        "        i += 1\n",
        "\n",
        "    print(f\"\\nTotal of {count} images generated\")\n",
        "    return (landmarks, labels)"
      ]
    },
    {
      "cell_type": "code",
      "execution_count": 9,
      "metadata": {
        "id": "d14LUJw2cVGL"
      },
      "outputs": [],
      "source": [
        "def make_model():\n",
        "    model = tf.keras.Sequential()\n",
        "\n",
        "    model.add(tf.keras.layers.Input((21, 3, 1)))\n",
        "    model.add(tf.keras.layers.Flatten())\n",
        "    model.add(tf.keras.layers.Dense(256, activation=\"relu\"))\n",
        "    model.add(tf.keras.layers.Dropout(0.25))\n",
        "    model.add(tf.keras.layers.Dense(128, activation=\"relu\"))\n",
        "    model.add(tf.keras.layers.Dropout(0.25))\n",
        "    model.add(tf.keras.layers.Dense(64, activation=\"relu\"))\n",
        "    model.add(tf.keras.layers.Dropout(0.25))\n",
        "    model.add(tf.keras.layers.Dense(32, activation=\"relu\"))\n",
        "    model.add(tf.keras.layers.Dropout(0.25))\n",
        "\n",
        "    # Output Layer\n",
        "    model.add(tf.keras.layers.Dense(NUM_CATS, activation=\"softmax\"))\n",
        "\n",
        "    model.compile(\n",
        "        optimizer=\"adam\",\n",
        "        loss=\"categorical_crossentropy\",\n",
        "        metrics=[\"accuracy\"]\n",
        "    )\n",
        "\n",
        "    return model"
      ]
    },
    {
      "cell_type": "code",
      "execution_count": 10,
      "metadata": {
        "id": "lMuR6ovtboIb"
      },
      "outputs": [],
      "source": [
        "train_path = r\"data\""
      ]
    },
    {
      "cell_type": "code",
      "execution_count": null,
      "metadata": {
        "colab": {
          "base_uri": "https://localhost:8080/"
        },
        "id": "TfBH2jHLcjAT",
        "outputId": "5e82da74-d104-46e0-c36b-a92c1a764c29"
      },
      "outputs": [],
      "source": [
        "images, labels = load_train_data(train_path)"
      ]
    },
    {
      "cell_type": "code",
      "execution_count": 12,
      "metadata": {
        "id": "s9zNYn5Fdzpb"
      },
      "outputs": [],
      "source": [
        "labels = tf.keras.utils.to_categorical(labels)\n",
        "x_train, x_test, y_train, y_test = train_test_split(\n",
        "    np.array(images), np.array(labels), test_size=0.2\n",
        ")"
      ]
    },
    {
      "cell_type": "code",
      "execution_count": 13,
      "metadata": {
        "id": "ZOF_QvY0dsRM"
      },
      "outputs": [],
      "source": [
        "model = make_model()"
      ]
    },
    {
      "cell_type": "code",
      "execution_count": null,
      "metadata": {
        "colab": {
          "base_uri": "https://localhost:8080/"
        },
        "id": "lcafDjb5dv1s",
        "outputId": "d7365e31-b91d-4fc6-abc9-4431bc6b5f8e"
      },
      "outputs": [],
      "source": [
        "early_stopping = EarlyStopping(monitor='val_loss', patience=20, restore_best_weights=True) # Early Stopping to prevent overflow\n",
        "model.fit(x_train, y_train, epochs=200, callbacks=[early_stopping], validation_data=(x_test, y_test))\n",
        "model.evaluate(x_test, y_test, verbose=2) "
      ]
    },
    {
      "cell_type": "code",
      "execution_count": null,
      "metadata": {},
      "outputs": [],
      "source": [
        "model.save(\"SignLanguage9C991.h5\")"
      ]
    }
  ],
  "metadata": {
    "accelerator": "GPU",
    "colab": {
      "gpuType": "T4",
      "provenance": []
    },
    "kernelspec": {
      "display_name": "Python 3",
      "name": "python3"
    },
    "language_info": {
      "codemirror_mode": {
        "name": "ipython",
        "version": 3
      },
      "file_extension": ".py",
      "mimetype": "text/x-python",
      "name": "python",
      "nbconvert_exporter": "python",
      "pygments_lexer": "ipython3",
      "version": "3.10.6"
    }
  },
  "nbformat": 4,
  "nbformat_minor": 0
}
