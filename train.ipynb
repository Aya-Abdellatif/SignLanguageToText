{
  "cells": [
    {
      "cell_type": "code",
      "execution_count": 43,
      "metadata": {
        "colab": {
          "base_uri": "https://localhost:8080/"
        },
        "id": "6I4RFvqLGjCm",
        "outputId": "c116f628-a6ff-4412-aa1f-cb46e537180e"
      },
      "outputs": [
        {
          "name": "stdout",
          "output_type": "stream",
          "text": [
            "Requirement already satisfied: mediapipe in c:\\users\\pevod\\appdata\\local\\programs\\python\\python310\\lib\\site-packages (0.10.10)\n",
            "Requirement already satisfied: absl-py in c:\\users\\pevod\\appdata\\local\\programs\\python\\python310\\lib\\site-packages (from mediapipe) (2.1.0)\n",
            "Requirement already satisfied: attrs>=19.1.0 in c:\\users\\pevod\\appdata\\local\\programs\\python\\python310\\lib\\site-packages (from mediapipe) (23.2.0)\n",
            "Requirement already satisfied: flatbuffers>=2.0 in c:\\users\\pevod\\appdata\\local\\programs\\python\\python310\\lib\\site-packages (from mediapipe) (23.5.26)\n",
            "Requirement already satisfied: jax in c:\\users\\pevod\\appdata\\local\\programs\\python\\python310\\lib\\site-packages (from mediapipe) (0.4.25)\n",
            "Requirement already satisfied: matplotlib in c:\\users\\pevod\\appdata\\local\\programs\\python\\python310\\lib\\site-packages (from mediapipe) (3.8.3)\n",
            "Requirement already satisfied: numpy in c:\\users\\pevod\\appdata\\local\\programs\\python\\python310\\lib\\site-packages (from mediapipe) (1.26.2)\n",
            "Requirement already satisfied: opencv-contrib-python in c:\\users\\pevod\\appdata\\local\\programs\\python\\python310\\lib\\site-packages (from mediapipe) (4.9.0.80)\n",
            "Requirement already satisfied: protobuf<4,>=3.11 in c:\\users\\pevod\\appdata\\local\\programs\\python\\python310\\lib\\site-packages (from mediapipe) (3.20.3)\n",
            "Requirement already satisfied: sounddevice>=0.4.4 in c:\\users\\pevod\\appdata\\local\\programs\\python\\python310\\lib\\site-packages (from mediapipe) (0.4.6)\n",
            "Requirement already satisfied: CFFI>=1.0 in c:\\users\\pevod\\appdata\\local\\programs\\python\\python310\\lib\\site-packages (from sounddevice>=0.4.4->mediapipe) (1.16.0)\n",
            "Requirement already satisfied: ml-dtypes>=0.2.0 in c:\\users\\pevod\\appdata\\local\\programs\\python\\python310\\lib\\site-packages (from jax->mediapipe) (0.3.2)\n",
            "Requirement already satisfied: opt-einsum in c:\\users\\pevod\\appdata\\local\\programs\\python\\python310\\lib\\site-packages (from jax->mediapipe) (3.3.0)\n",
            "Requirement already satisfied: scipy>=1.9 in c:\\users\\pevod\\appdata\\local\\programs\\python\\python310\\lib\\site-packages (from jax->mediapipe) (1.11.4)\n",
            "Requirement already satisfied: contourpy>=1.0.1 in c:\\users\\pevod\\appdata\\local\\programs\\python\\python310\\lib\\site-packages (from matplotlib->mediapipe) (1.2.0)\n",
            "Requirement already satisfied: cycler>=0.10 in c:\\users\\pevod\\appdata\\local\\programs\\python\\python310\\lib\\site-packages (from matplotlib->mediapipe) (0.12.1)\n",
            "Requirement already satisfied: fonttools>=4.22.0 in c:\\users\\pevod\\appdata\\local\\programs\\python\\python310\\lib\\site-packages (from matplotlib->mediapipe) (4.49.0)\n",
            "Requirement already satisfied: kiwisolver>=1.3.1 in c:\\users\\pevod\\appdata\\local\\programs\\python\\python310\\lib\\site-packages (from matplotlib->mediapipe) (1.4.5)\n",
            "Requirement already satisfied: packaging>=20.0 in c:\\users\\pevod\\appdata\\local\\programs\\python\\python310\\lib\\site-packages (from matplotlib->mediapipe) (23.2)\n",
            "Requirement already satisfied: pillow>=8 in c:\\users\\pevod\\appdata\\local\\programs\\python\\python310\\lib\\site-packages (from matplotlib->mediapipe) (10.1.0)\n",
            "Requirement already satisfied: pyparsing>=2.3.1 in c:\\users\\pevod\\appdata\\local\\programs\\python\\python310\\lib\\site-packages (from matplotlib->mediapipe) (3.1.1)\n",
            "Requirement already satisfied: python-dateutil>=2.7 in c:\\users\\pevod\\appdata\\local\\programs\\python\\python310\\lib\\site-packages (from matplotlib->mediapipe) (2.9.0)\n",
            "Requirement already satisfied: pycparser in c:\\users\\pevod\\appdata\\local\\programs\\python\\python310\\lib\\site-packages (from CFFI>=1.0->sounddevice>=0.4.4->mediapipe) (2.21)\n",
            "Requirement already satisfied: six>=1.5 in c:\\users\\pevod\\appdata\\local\\programs\\python\\python310\\lib\\site-packages (from python-dateutil>=2.7->matplotlib->mediapipe) (1.16.0)\n",
            "Note: you may need to restart the kernel to use updated packages.\n",
            "Note: you may need to restart the kernel to use updated packages.\n"
          ]
        },
        {
          "name": "stderr",
          "output_type": "stream",
          "text": [
            "ERROR: Could not find a version that satisfies the requirement open-cv (from versions: none)\n",
            "ERROR: No matching distribution found for open-cv\n"
          ]
        },
        {
          "name": "stdout",
          "output_type": "stream",
          "text": [
            "Requirement already satisfied: numpy in c:\\users\\pevod\\appdata\\local\\programs\\python\\python310\\lib\\site-packages (1.26.2)\n",
            "Note: you may need to restart the kernel to use updated packages.\n",
            "Requirement already satisfied: keras in c:\\users\\pevod\\appdata\\local\\programs\\python\\python310\\lib\\site-packages (3.1.1)\n",
            "Requirement already satisfied: absl-py in c:\\users\\pevod\\appdata\\local\\programs\\python\\python310\\lib\\site-packages (from keras) (2.1.0)\n",
            "Requirement already satisfied: numpy in c:\\users\\pevod\\appdata\\local\\programs\\python\\python310\\lib\\site-packages (from keras) (1.26.2)\n",
            "Requirement already satisfied: rich in c:\\users\\pevod\\appdata\\local\\programs\\python\\python310\\lib\\site-packages (from keras) (13.7.1)\n",
            "Requirement already satisfied: namex in c:\\users\\pevod\\appdata\\local\\programs\\python\\python310\\lib\\site-packages (from keras) (0.0.7)\n",
            "Requirement already satisfied: h5py in c:\\users\\pevod\\appdata\\local\\programs\\python\\python310\\lib\\site-packages (from keras) (3.10.0)\n",
            "Requirement already satisfied: optree in c:\\users\\pevod\\appdata\\local\\programs\\python\\python310\\lib\\site-packages (from keras) (0.10.0)\n",
            "Requirement already satisfied: ml-dtypes in c:\\users\\pevod\\appdata\\local\\programs\\python\\python310\\lib\\site-packages (from keras) (0.3.2)\n",
            "Requirement already satisfied: typing-extensions>=4.0.0 in c:\\users\\pevod\\appdata\\local\\programs\\python\\python310\\lib\\site-packages (from optree->keras) (4.9.0)\n",
            "Requirement already satisfied: markdown-it-py>=2.2.0 in c:\\users\\pevod\\appdata\\local\\programs\\python\\python310\\lib\\site-packages (from rich->keras) (3.0.0)\n",
            "Requirement already satisfied: pygments<3.0.0,>=2.13.0 in c:\\users\\pevod\\appdata\\local\\programs\\python\\python310\\lib\\site-packages (from rich->keras) (2.17.2)\n",
            "Requirement already satisfied: mdurl~=0.1 in c:\\users\\pevod\\appdata\\local\\programs\\python\\python310\\lib\\site-packages (from markdown-it-py>=2.2.0->rich->keras) (0.1.2)\n",
            "Note: you may need to restart the kernel to use updated packages.\n",
            "Requirement already satisfied: tensorflow in c:\\users\\pevod\\appdata\\local\\programs\\python\\python310\\lib\\site-packages (2.16.1)\n",
            "Requirement already satisfied: tensorflow-intel==2.16.1 in c:\\users\\pevod\\appdata\\local\\programs\\python\\python310\\lib\\site-packages (from tensorflow) (2.16.1)\n",
            "Requirement already satisfied: absl-py>=1.0.0 in c:\\users\\pevod\\appdata\\local\\programs\\python\\python310\\lib\\site-packages (from tensorflow-intel==2.16.1->tensorflow) (2.1.0)\n",
            "Requirement already satisfied: astunparse>=1.6.0 in c:\\users\\pevod\\appdata\\local\\programs\\python\\python310\\lib\\site-packages (from tensorflow-intel==2.16.1->tensorflow) (1.6.3)\n",
            "Requirement already satisfied: flatbuffers>=23.5.26 in c:\\users\\pevod\\appdata\\local\\programs\\python\\python310\\lib\\site-packages (from tensorflow-intel==2.16.1->tensorflow) (23.5.26)\n",
            "Requirement already satisfied: gast!=0.5.0,!=0.5.1,!=0.5.2,>=0.2.1 in c:\\users\\pevod\\appdata\\local\\programs\\python\\python310\\lib\\site-packages (from tensorflow-intel==2.16.1->tensorflow) (0.5.4)\n",
            "Requirement already satisfied: google-pasta>=0.1.1 in c:\\users\\pevod\\appdata\\local\\programs\\python\\python310\\lib\\site-packages (from tensorflow-intel==2.16.1->tensorflow) (0.2.0)\n",
            "Requirement already satisfied: h5py>=3.10.0 in c:\\users\\pevod\\appdata\\local\\programs\\python\\python310\\lib\\site-packages (from tensorflow-intel==2.16.1->tensorflow) (3.10.0)\n",
            "Requirement already satisfied: libclang>=13.0.0 in c:\\users\\pevod\\appdata\\local\\programs\\python\\python310\\lib\\site-packages (from tensorflow-intel==2.16.1->tensorflow) (18.1.1)\n",
            "Requirement already satisfied: ml-dtypes~=0.3.1 in c:\\users\\pevod\\appdata\\local\\programs\\python\\python310\\lib\\site-packages (from tensorflow-intel==2.16.1->tensorflow) (0.3.2)\n",
            "Requirement already satisfied: opt-einsum>=2.3.2 in c:\\users\\pevod\\appdata\\local\\programs\\python\\python310\\lib\\site-packages (from tensorflow-intel==2.16.1->tensorflow) (3.3.0)\n",
            "Requirement already satisfied: packaging in c:\\users\\pevod\\appdata\\local\\programs\\python\\python310\\lib\\site-packages (from tensorflow-intel==2.16.1->tensorflow) (23.2)\n",
            "Requirement already satisfied: protobuf!=4.21.0,!=4.21.1,!=4.21.2,!=4.21.3,!=4.21.4,!=4.21.5,<5.0.0dev,>=3.20.3 in c:\\users\\pevod\\appdata\\local\\programs\\python\\python310\\lib\\site-packages (from tensorflow-intel==2.16.1->tensorflow) (3.20.3)\n",
            "Requirement already satisfied: requests<3,>=2.21.0 in c:\\users\\pevod\\appdata\\local\\programs\\python\\python310\\lib\\site-packages (from tensorflow-intel==2.16.1->tensorflow) (2.31.0)\n",
            "Requirement already satisfied: setuptools in c:\\users\\pevod\\appdata\\local\\programs\\python\\python310\\lib\\site-packages (from tensorflow-intel==2.16.1->tensorflow) (63.2.0)\n",
            "Requirement already satisfied: six>=1.12.0 in c:\\users\\pevod\\appdata\\local\\programs\\python\\python310\\lib\\site-packages (from tensorflow-intel==2.16.1->tensorflow) (1.16.0)\n",
            "Requirement already satisfied: termcolor>=1.1.0 in c:\\users\\pevod\\appdata\\local\\programs\\python\\python310\\lib\\site-packages (from tensorflow-intel==2.16.1->tensorflow) (2.4.0)\n",
            "Requirement already satisfied: typing-extensions>=3.6.6 in c:\\users\\pevod\\appdata\\local\\programs\\python\\python310\\lib\\site-packages (from tensorflow-intel==2.16.1->tensorflow) (4.9.0)\n",
            "Requirement already satisfied: wrapt>=1.11.0 in c:\\users\\pevod\\appdata\\local\\programs\\python\\python310\\lib\\site-packages (from tensorflow-intel==2.16.1->tensorflow) (1.16.0)\n",
            "Requirement already satisfied: grpcio<2.0,>=1.24.3 in c:\\users\\pevod\\appdata\\local\\programs\\python\\python310\\lib\\site-packages (from tensorflow-intel==2.16.1->tensorflow) (1.60.0)\n",
            "Requirement already satisfied: tensorboard<2.17,>=2.16 in c:\\users\\pevod\\appdata\\local\\programs\\python\\python310\\lib\\site-packages (from tensorflow-intel==2.16.1->tensorflow) (2.16.2)\n",
            "Requirement already satisfied: keras>=3.0.0 in c:\\users\\pevod\\appdata\\local\\programs\\python\\python310\\lib\\site-packages (from tensorflow-intel==2.16.1->tensorflow) (3.1.1)\n",
            "Requirement already satisfied: tensorflow-io-gcs-filesystem>=0.23.1 in c:\\users\\pevod\\appdata\\local\\programs\\python\\python310\\lib\\site-packages (from tensorflow-intel==2.16.1->tensorflow) (0.31.0)\n",
            "Requirement already satisfied: numpy<2.0.0,>=1.23.5 in c:\\users\\pevod\\appdata\\local\\programs\\python\\python310\\lib\\site-packages (from tensorflow-intel==2.16.1->tensorflow) (1.26.2)\n",
            "Requirement already satisfied: wheel<1.0,>=0.23.0 in c:\\users\\pevod\\appdata\\local\\programs\\python\\python310\\lib\\site-packages (from astunparse>=1.6.0->tensorflow-intel==2.16.1->tensorflow) (0.43.0)\n",
            "Requirement already satisfied: rich in c:\\users\\pevod\\appdata\\local\\programs\\python\\python310\\lib\\site-packages (from keras>=3.0.0->tensorflow-intel==2.16.1->tensorflow) (13.7.1)\n",
            "Requirement already satisfied: namex in c:\\users\\pevod\\appdata\\local\\programs\\python\\python310\\lib\\site-packages (from keras>=3.0.0->tensorflow-intel==2.16.1->tensorflow) (0.0.7)\n",
            "Requirement already satisfied: optree in c:\\users\\pevod\\appdata\\local\\programs\\python\\python310\\lib\\site-packages (from keras>=3.0.0->tensorflow-intel==2.16.1->tensorflow) (0.10.0)\n",
            "Requirement already satisfied: charset-normalizer<4,>=2 in c:\\users\\pevod\\appdata\\local\\programs\\python\\python310\\lib\\site-packages (from requests<3,>=2.21.0->tensorflow-intel==2.16.1->tensorflow) (3.3.2)\n",
            "Requirement already satisfied: idna<4,>=2.5 in c:\\users\\pevod\\appdata\\local\\programs\\python\\python310\\lib\\site-packages (from requests<3,>=2.21.0->tensorflow-intel==2.16.1->tensorflow) (3.6)\n",
            "Requirement already satisfied: urllib3<3,>=1.21.1 in c:\\users\\pevod\\appdata\\local\\programs\\python\\python310\\lib\\site-packages (from requests<3,>=2.21.0->tensorflow-intel==2.16.1->tensorflow) (2.1.0)\n",
            "Requirement already satisfied: certifi>=2017.4.17 in c:\\users\\pevod\\appdata\\local\\programs\\python\\python310\\lib\\site-packages (from requests<3,>=2.21.0->tensorflow-intel==2.16.1->tensorflow) (2023.11.17)\n",
            "Requirement already satisfied: markdown>=2.6.8 in c:\\users\\pevod\\appdata\\local\\programs\\python\\python310\\lib\\site-packages (from tensorboard<2.17,>=2.16->tensorflow-intel==2.16.1->tensorflow) (3.6)\n",
            "Requirement already satisfied: tensorboard-data-server<0.8.0,>=0.7.0 in c:\\users\\pevod\\appdata\\local\\programs\\python\\python310\\lib\\site-packages (from tensorboard<2.17,>=2.16->tensorflow-intel==2.16.1->tensorflow) (0.7.2)\n",
            "Requirement already satisfied: werkzeug>=1.0.1 in c:\\users\\pevod\\appdata\\local\\programs\\python\\python310\\lib\\site-packages (from tensorboard<2.17,>=2.16->tensorflow-intel==2.16.1->tensorflow) (3.0.1)\n",
            "Requirement already satisfied: MarkupSafe>=2.1.1 in c:\\users\\pevod\\appdata\\local\\programs\\python\\python310\\lib\\site-packages (from werkzeug>=1.0.1->tensorboard<2.17,>=2.16->tensorflow-intel==2.16.1->tensorflow) (2.1.3)\n",
            "Requirement already satisfied: markdown-it-py>=2.2.0 in c:\\users\\pevod\\appdata\\local\\programs\\python\\python310\\lib\\site-packages (from rich->keras>=3.0.0->tensorflow-intel==2.16.1->tensorflow) (3.0.0)\n",
            "Requirement already satisfied: pygments<3.0.0,>=2.13.0 in c:\\users\\pevod\\appdata\\local\\programs\\python\\python310\\lib\\site-packages (from rich->keras>=3.0.0->tensorflow-intel==2.16.1->tensorflow) (2.17.2)\n",
            "Requirement already satisfied: mdurl~=0.1 in c:\\users\\pevod\\appdata\\local\\programs\\python\\python310\\lib\\site-packages (from markdown-it-py>=2.2.0->rich->keras>=3.0.0->tensorflow-intel==2.16.1->tensorflow) (0.1.2)\n",
            "Note: you may need to restart the kernel to use updated packages.\n",
            "Requirement already satisfied: scikit-learn in c:\\users\\pevod\\appdata\\local\\programs\\python\\python310\\lib\\site-packages (1.4.1.post1)\n",
            "Requirement already satisfied: numpy<2.0,>=1.19.5 in c:\\users\\pevod\\appdata\\local\\programs\\python\\python310\\lib\\site-packages (from scikit-learn) (1.26.2)\n",
            "Requirement already satisfied: scipy>=1.6.0 in c:\\users\\pevod\\appdata\\local\\programs\\python\\python310\\lib\\site-packages (from scikit-learn) (1.11.4)\n",
            "Requirement already satisfied: joblib>=1.2.0 in c:\\users\\pevod\\appdata\\local\\programs\\python\\python310\\lib\\site-packages (from scikit-learn) (1.3.2)\n",
            "Requirement already satisfied: threadpoolctl>=2.0.0 in c:\\users\\pevod\\appdata\\local\\programs\\python\\python310\\lib\\site-packages (from scikit-learn) (3.4.0)\n",
            "Note: you may need to restart the kernel to use updated packages.\n"
          ]
        }
      ],
      "source": [
        "%pip install mediapipe\n",
        "%pip install opencv-python\n",
        "%pip install numpy\n",
        "%pip install keras\n",
        "%pip install tensorflow\n",
        "%pip install scikit-learn"
      ]
    },
    {
      "cell_type": "code",
      "execution_count": 44,
      "metadata": {
        "id": "sVytFRpPb0wr"
      },
      "outputs": [],
      "source": [
        "import cv2 as cv\n",
        "import numpy as np\n",
        "import tensorflow as tf\n",
        "import mediapipe as mp\n",
        "import os\n",
        "from sklearn.model_selection import train_test_split\n",
        "from tensorflow.keras.callbacks import EarlyStopping"
      ]
    },
    {
      "cell_type": "code",
      "execution_count": 45,
      "metadata": {
        "id": "1g0QHQZEauvK"
      },
      "outputs": [],
      "source": [
        "CATEGORIES = [\"hello\", \"yes\", \"no\", \"iloveyou\", \"callme\", \"goodjob\", \"highfive\", \"dislike\", \"peace\"]\n",
        "NUM_CATS = len(CATEGORIES)"
      ]
    },
    {
      "cell_type": "code",
      "execution_count": 46,
      "metadata": {
        "id": "a-JzjGyMGw2-"
      },
      "outputs": [],
      "source": [
        "mpHands = mp.solutions.hands\n",
        "hands = mpHands.Hands()"
      ]
    },
    {
      "cell_type": "code",
      "execution_count": 47,
      "metadata": {},
      "outputs": [],
      "source": [
        "def get_landmark_array(landmarks):\n",
        "  arr = []\n",
        "  for l in landmarks:\n",
        "    arr.append([l.x, l.y, l.z])\n",
        "  return np.array(arr)"
      ]
    },
    {
      "cell_type": "code",
      "execution_count": 48,
      "metadata": {},
      "outputs": [],
      "source": [
        "def rotated(img, angle):\n",
        "    h, w = img.shape[:2]\n",
        "    rotation_matrix = cv.getRotationMatrix2D((w / 2, h / 2), angle, 1)\n",
        "    return cv.warpAffine(img, rotation_matrix, (w, h))"
      ]
    },
    {
      "cell_type": "code",
      "execution_count": 49,
      "metadata": {
        "id": "G29fLQTbcBaj"
      },
      "outputs": [],
      "source": [
        "def load_train_data(data_dir):\n",
        "\n",
        "    landmarks = []\n",
        "    labels = []\n",
        "    i = 0\n",
        "    count = 0\n",
        "    for label in CATEGORIES:\n",
        "        print(label, end=\" \")\n",
        "        pictures = os.listdir(os.path.join(data_dir, label))\n",
        "        for pic in pictures:\n",
        "            img = cv.imread(os.path.join(data_dir, label, pic))\n",
        "            \n",
        "\n",
        "\n",
        "            imgRGB = cv.cvtColor(img, cv.COLOR_BGR2RGB)\n",
        "            imgflipped = cv.flip(imgRGB, 1)\n",
        "            imgRotated1 = rotated(imgRGB, 10)\n",
        "            imgRotated2 = rotated(imgRGB, -10)\n",
        "            imgZoom2p = cv.resize(imgRGB, None, fx=1.1, fy=1.1, interpolation=cv.INTER_LINEAR)\n",
        "            imgZoomxp = cv.resize(imgRGB, None, fx=1.1, fy=1, interpolation=cv.INTER_LINEAR)\n",
        "            imgZoomyp = cv.resize(imgRGB, None, fx=1, fy=1.1, interpolation=cv.INTER_LINEAR)\n",
        "            imgZoomxn = cv.resize(imgRGB, None, fx=0.9, fy=1, interpolation=cv.INTER_LINEAR)\n",
        "            imgZoomyn = cv.resize(imgRGB, None, fx=1, fy=0.9, interpolation=cv.INTER_LINEAR)\n",
        "            imgZoom2n = cv.resize(imgRGB, None, fx=0.9, fy=0.9, interpolation=cv.INTER_LINEAR)\n",
        "            imgZoom2xp = cv.resize(imgRGB, None, fx=0.8, fy=0.8, interpolation=cv.INTER_LINEAR)\n",
        "            imgZoom2xn = cv.resize(imgRGB, None, fx=1.2, fy=1.2, interpolation=cv.INTER_LINEAR)\n",
        "\n",
        "\n",
        "            AugmentedImages = [imgRGB, imgflipped, imgRotated1, imgRotated2, imgZoom2p, imgZoomxp, imgZoomyp, imgZoomxn, imgZoomyn, imgZoom2n, imgZoom2xp, imgZoom2xn]            \n",
        "\n",
        "            for image in AugmentedImages:\n",
        "                result = hands.process(image)\n",
        "                if result.multi_hand_landmarks:\n",
        "                    count += 1\n",
        "                    landmarks.append(get_landmark_array(result.multi_hand_landmarks[0].landmark))\n",
        "                    labels.append(i)\n",
        "        i += 1\n",
        "\n",
        "    print(f\"\\nTotal of {count} images generated\")\n",
        "    return (landmarks, labels)"
      ]
    },
    {
      "cell_type": "code",
      "execution_count": 50,
      "metadata": {
        "id": "d14LUJw2cVGL"
      },
      "outputs": [],
      "source": [
        "def make_model():\n",
        "    model = tf.keras.Sequential()\n",
        "\n",
        "    model.add(tf.keras.layers.Input((21, 3, 1)))\n",
        "    model.add(tf.keras.layers.Flatten())\n",
        "    model.add(tf.keras.layers.Dense(256, activation=\"relu\"))\n",
        "    model.add(tf.keras.layers.Dropout(0.25))\n",
        "    model.add(tf.keras.layers.Dense(128, activation=\"relu\"))\n",
        "    model.add(tf.keras.layers.Dropout(0.25))\n",
        "    model.add(tf.keras.layers.Dense(64, activation=\"relu\"))\n",
        "    model.add(tf.keras.layers.Dropout(0.25))\n",
        "    model.add(tf.keras.layers.Dense(32, activation=\"relu\"))\n",
        "    model.add(tf.keras.layers.Dropout(0.25))\n",
        "\n",
        "    # Output Layer\n",
        "    model.add(tf.keras.layers.Dense(NUM_CATS, activation=\"softmax\"))\n",
        "\n",
        "    model.compile(\n",
        "        optimizer=\"adam\",\n",
        "        loss=\"categorical_crossentropy\",\n",
        "        metrics=[\"accuracy\"]\n",
        "    )\n",
        "\n",
        "    return model"
      ]
    },
    {
      "cell_type": "code",
      "execution_count": 51,
      "metadata": {
        "id": "lMuR6ovtboIb"
      },
      "outputs": [],
      "source": [
        "train_path = r\"C:\\Users\\pevod\\Desktop\\New folder (2)\\data\""
      ]
    },
    {
      "cell_type": "code",
      "execution_count": 52,
      "metadata": {
        "colab": {
          "base_uri": "https://localhost:8080/"
        },
        "id": "TfBH2jHLcjAT",
        "outputId": "5e82da74-d104-46e0-c36b-a92c1a764c29"
      },
      "outputs": [
        {
          "name": "stdout",
          "output_type": "stream",
          "text": [
            "hello "
          ]
        },
        {
          "name": "stdout",
          "output_type": "stream",
          "text": [
            "yes no iloveyou callme goodjob highfive dislike peace \n",
            "Total of 2805 images generated\n"
          ]
        }
      ],
      "source": [
        "images, labels = load_train_data(train_path)"
      ]
    },
    {
      "cell_type": "code",
      "execution_count": 53,
      "metadata": {
        "id": "s9zNYn5Fdzpb"
      },
      "outputs": [],
      "source": [
        "labels = tf.keras.utils.to_categorical(labels)\n",
        "x_train, x_test, y_train, y_test = train_test_split(\n",
        "    np.array(images), np.array(labels), test_size=0.2\n",
        ")"
      ]
    },
    {
      "cell_type": "code",
      "execution_count": 54,
      "metadata": {
        "id": "ZOF_QvY0dsRM"
      },
      "outputs": [],
      "source": [
        "model = make_model()"
      ]
    },
    {
      "cell_type": "code",
      "execution_count": 55,
      "metadata": {
        "colab": {
          "base_uri": "https://localhost:8080/"
        },
        "id": "lcafDjb5dv1s",
        "outputId": "d7365e31-b91d-4fc6-abc9-4431bc6b5f8e"
      },
      "outputs": [
        {
          "name": "stdout",
          "output_type": "stream",
          "text": [
            "Epoch 1/200\n"
          ]
        },
        {
          "name": "stdout",
          "output_type": "stream",
          "text": [
            "\u001b[1m71/71\u001b[0m \u001b[32m━━━━━━━━━━━━━━━━━━━━\u001b[0m\u001b[37m\u001b[0m \u001b[1m1s\u001b[0m 4ms/step - accuracy: 0.1359 - loss: 2.1873 - val_accuracy: 0.2371 - val_loss: 1.9482\n",
            "Epoch 2/200\n",
            "\u001b[1m71/71\u001b[0m \u001b[32m━━━━━━━━━━━━━━━━━━━━\u001b[0m\u001b[37m\u001b[0m \u001b[1m0s\u001b[0m 2ms/step - accuracy: 0.2746 - loss: 1.8942 - val_accuracy: 0.5597 - val_loss: 1.2323\n",
            "Epoch 3/200\n",
            "\u001b[1m71/71\u001b[0m \u001b[32m━━━━━━━━━━━━━━━━━━━━\u001b[0m\u001b[37m\u001b[0m \u001b[1m0s\u001b[0m 2ms/step - accuracy: 0.4787 - loss: 1.3092 - val_accuracy: 0.7308 - val_loss: 0.7524\n",
            "Epoch 4/200\n",
            "\u001b[1m71/71\u001b[0m \u001b[32m━━━━━━━━━━━━━━━━━━━━\u001b[0m\u001b[37m\u001b[0m \u001b[1m0s\u001b[0m 2ms/step - accuracy: 0.6158 - loss: 0.9867 - val_accuracy: 0.8396 - val_loss: 0.5721\n",
            "Epoch 5/200\n",
            "\u001b[1m71/71\u001b[0m \u001b[32m━━━━━━━━━━━━━━━━━━━━\u001b[0m\u001b[37m\u001b[0m \u001b[1m0s\u001b[0m 2ms/step - accuracy: 0.6512 - loss: 0.8312 - val_accuracy: 0.8556 - val_loss: 0.5264\n",
            "Epoch 6/200\n",
            "\u001b[1m71/71\u001b[0m \u001b[32m━━━━━━━━━━━━━━━━━━━━\u001b[0m\u001b[37m\u001b[0m \u001b[1m0s\u001b[0m 2ms/step - accuracy: 0.7027 - loss: 0.7025 - val_accuracy: 0.8699 - val_loss: 0.3716\n",
            "Epoch 7/200\n",
            "\u001b[1m71/71\u001b[0m \u001b[32m━━━━━━━━━━━━━━━━━━━━\u001b[0m\u001b[37m\u001b[0m \u001b[1m0s\u001b[0m 2ms/step - accuracy: 0.7704 - loss: 0.5970 - val_accuracy: 0.9358 - val_loss: 0.3148\n",
            "Epoch 8/200\n",
            "\u001b[1m71/71\u001b[0m \u001b[32m━━━━━━━━━━━━━━━━━━━━\u001b[0m\u001b[37m\u001b[0m \u001b[1m0s\u001b[0m 2ms/step - accuracy: 0.7785 - loss: 0.5579 - val_accuracy: 0.9483 - val_loss: 0.2289\n",
            "Epoch 9/200\n",
            "\u001b[1m71/71\u001b[0m \u001b[32m━━━━━━━━━━━━━━━━━━━━\u001b[0m\u001b[37m\u001b[0m \u001b[1m0s\u001b[0m 2ms/step - accuracy: 0.8151 - loss: 0.4677 - val_accuracy: 0.9340 - val_loss: 0.2363\n",
            "Epoch 10/200\n",
            "\u001b[1m71/71\u001b[0m \u001b[32m━━━━━━━━━━━━━━━━━━━━\u001b[0m\u001b[37m\u001b[0m \u001b[1m0s\u001b[0m 2ms/step - accuracy: 0.8516 - loss: 0.4141 - val_accuracy: 0.9109 - val_loss: 0.2749\n",
            "Epoch 11/200\n",
            "\u001b[1m71/71\u001b[0m \u001b[32m━━━━━━━━━━━━━━━━━━━━\u001b[0m\u001b[37m\u001b[0m \u001b[1m0s\u001b[0m 2ms/step - accuracy: 0.8385 - loss: 0.3962 - val_accuracy: 0.9020 - val_loss: 0.2495\n",
            "Epoch 12/200\n",
            "\u001b[1m71/71\u001b[0m \u001b[32m━━━━━━━━━━━━━━━━━━━━\u001b[0m\u001b[37m\u001b[0m \u001b[1m0s\u001b[0m 2ms/step - accuracy: 0.8664 - loss: 0.3444 - val_accuracy: 0.8574 - val_loss: 0.2617\n",
            "Epoch 13/200\n",
            "\u001b[1m71/71\u001b[0m \u001b[32m━━━━━━━━━━━━━━━━━━━━\u001b[0m\u001b[37m\u001b[0m \u001b[1m0s\u001b[0m 2ms/step - accuracy: 0.8591 - loss: 0.3577 - val_accuracy: 0.9144 - val_loss: 0.2044\n",
            "Epoch 14/200\n",
            "\u001b[1m71/71\u001b[0m \u001b[32m━━━━━━━━━━━━━━━━━━━━\u001b[0m\u001b[37m\u001b[0m \u001b[1m0s\u001b[0m 2ms/step - accuracy: 0.8815 - loss: 0.3087 - val_accuracy: 0.9394 - val_loss: 0.1727\n",
            "Epoch 15/200\n",
            "\u001b[1m71/71\u001b[0m \u001b[32m━━━━━━━━━━━━━━━━━━━━\u001b[0m\u001b[37m\u001b[0m \u001b[1m0s\u001b[0m 2ms/step - accuracy: 0.8777 - loss: 0.3162 - val_accuracy: 0.9715 - val_loss: 0.1361\n",
            "Epoch 16/200\n",
            "\u001b[1m71/71\u001b[0m \u001b[32m━━━━━━━━━━━━━━━━━━━━\u001b[0m\u001b[37m\u001b[0m \u001b[1m0s\u001b[0m 2ms/step - accuracy: 0.9187 - loss: 0.2250 - val_accuracy: 0.9412 - val_loss: 0.1631\n",
            "Epoch 17/200\n",
            "\u001b[1m71/71\u001b[0m \u001b[32m━━━━━━━━━━━━━━━━━━━━\u001b[0m\u001b[37m\u001b[0m \u001b[1m0s\u001b[0m 2ms/step - accuracy: 0.9137 - loss: 0.2387 - val_accuracy: 0.9661 - val_loss: 0.1254\n",
            "Epoch 18/200\n",
            "\u001b[1m71/71\u001b[0m \u001b[32m━━━━━━━━━━━━━━━━━━━━\u001b[0m\u001b[37m\u001b[0m \u001b[1m0s\u001b[0m 2ms/step - accuracy: 0.9163 - loss: 0.2214 - val_accuracy: 0.9697 - val_loss: 0.1222\n",
            "Epoch 19/200\n",
            "\u001b[1m71/71\u001b[0m \u001b[32m━━━━━━━━━━━━━━━━━━━━\u001b[0m\u001b[37m\u001b[0m \u001b[1m0s\u001b[0m 2ms/step - accuracy: 0.9187 - loss: 0.2341 - val_accuracy: 0.9305 - val_loss: 0.1578\n",
            "Epoch 20/200\n",
            "\u001b[1m71/71\u001b[0m \u001b[32m━━━━━━━━━━━━━━━━━━━━\u001b[0m\u001b[37m\u001b[0m \u001b[1m0s\u001b[0m 2ms/step - accuracy: 0.9294 - loss: 0.2037 - val_accuracy: 0.9661 - val_loss: 0.1113\n",
            "Epoch 21/200\n",
            "\u001b[1m71/71\u001b[0m \u001b[32m━━━━━━━━━━━━━━━━━━━━\u001b[0m\u001b[37m\u001b[0m \u001b[1m0s\u001b[0m 2ms/step - accuracy: 0.9280 - loss: 0.2018 - val_accuracy: 0.9768 - val_loss: 0.1054\n",
            "Epoch 22/200\n",
            "\u001b[1m71/71\u001b[0m \u001b[32m━━━━━━━━━━━━━━━━━━━━\u001b[0m\u001b[37m\u001b[0m \u001b[1m0s\u001b[0m 2ms/step - accuracy: 0.9471 - loss: 0.1656 - val_accuracy: 0.9768 - val_loss: 0.0924\n",
            "Epoch 23/200\n",
            "\u001b[1m71/71\u001b[0m \u001b[32m━━━━━━━━━━━━━━━━━━━━\u001b[0m\u001b[37m\u001b[0m \u001b[1m0s\u001b[0m 2ms/step - accuracy: 0.9463 - loss: 0.1483 - val_accuracy: 0.9840 - val_loss: 0.1041\n",
            "Epoch 24/200\n",
            "\u001b[1m71/71\u001b[0m \u001b[32m━━━━━━━━━━━━━━━━━━━━\u001b[0m\u001b[37m\u001b[0m \u001b[1m0s\u001b[0m 2ms/step - accuracy: 0.9284 - loss: 0.1847 - val_accuracy: 0.9715 - val_loss: 0.1238\n",
            "Epoch 25/200\n",
            "\u001b[1m71/71\u001b[0m \u001b[32m━━━━━━━━━━━━━━━━━━━━\u001b[0m\u001b[37m\u001b[0m \u001b[1m0s\u001b[0m 2ms/step - accuracy: 0.9372 - loss: 0.1742 - val_accuracy: 0.9768 - val_loss: 0.0888\n",
            "Epoch 26/200\n",
            "\u001b[1m71/71\u001b[0m \u001b[32m━━━━━━━━━━━━━━━━━━━━\u001b[0m\u001b[37m\u001b[0m \u001b[1m0s\u001b[0m 2ms/step - accuracy: 0.9346 - loss: 0.1804 - val_accuracy: 0.9715 - val_loss: 0.0992\n",
            "Epoch 27/200\n",
            "\u001b[1m71/71\u001b[0m \u001b[32m━━━━━━━━━━━━━━━━━━━━\u001b[0m\u001b[37m\u001b[0m \u001b[1m0s\u001b[0m 2ms/step - accuracy: 0.9446 - loss: 0.1653 - val_accuracy: 0.9608 - val_loss: 0.1171\n",
            "Epoch 28/200\n",
            "\u001b[1m71/71\u001b[0m \u001b[32m━━━━━━━━━━━━━━━━━━━━\u001b[0m\u001b[37m\u001b[0m \u001b[1m0s\u001b[0m 2ms/step - accuracy: 0.9485 - loss: 0.1454 - val_accuracy: 0.9786 - val_loss: 0.0869\n",
            "Epoch 29/200\n",
            "\u001b[1m71/71\u001b[0m \u001b[32m━━━━━━━━━━━━━━━━━━━━\u001b[0m\u001b[37m\u001b[0m \u001b[1m0s\u001b[0m 2ms/step - accuracy: 0.9496 - loss: 0.1524 - val_accuracy: 0.9643 - val_loss: 0.1207\n",
            "Epoch 30/200\n",
            "\u001b[1m71/71\u001b[0m \u001b[32m━━━━━━━━━━━━━━━━━━━━\u001b[0m\u001b[37m\u001b[0m \u001b[1m0s\u001b[0m 2ms/step - accuracy: 0.9535 - loss: 0.1308 - val_accuracy: 0.9840 - val_loss: 0.0859\n",
            "Epoch 31/200\n",
            "\u001b[1m71/71\u001b[0m \u001b[32m━━━━━━━━━━━━━━━━━━━━\u001b[0m\u001b[37m\u001b[0m \u001b[1m0s\u001b[0m 2ms/step - accuracy: 0.9502 - loss: 0.1518 - val_accuracy: 0.9857 - val_loss: 0.0891\n",
            "Epoch 32/200\n",
            "\u001b[1m71/71\u001b[0m \u001b[32m━━━━━━━━━━━━━━━━━━━━\u001b[0m\u001b[37m\u001b[0m \u001b[1m0s\u001b[0m 2ms/step - accuracy: 0.9482 - loss: 0.1567 - val_accuracy: 0.9715 - val_loss: 0.1051\n",
            "Epoch 33/200\n",
            "\u001b[1m71/71\u001b[0m \u001b[32m━━━━━━━━━━━━━━━━━━━━\u001b[0m\u001b[37m\u001b[0m \u001b[1m0s\u001b[0m 2ms/step - accuracy: 0.9089 - loss: 0.2885 - val_accuracy: 0.9715 - val_loss: 0.1101\n",
            "Epoch 34/200\n",
            "\u001b[1m71/71\u001b[0m \u001b[32m━━━━━━━━━━━━━━━━━━━━\u001b[0m\u001b[37m\u001b[0m \u001b[1m0s\u001b[0m 2ms/step - accuracy: 0.9560 - loss: 0.1283 - val_accuracy: 0.9857 - val_loss: 0.0727\n",
            "Epoch 35/200\n",
            "\u001b[1m71/71\u001b[0m \u001b[32m━━━━━━━━━━━━━━━━━━━━\u001b[0m\u001b[37m\u001b[0m \u001b[1m0s\u001b[0m 2ms/step - accuracy: 0.9664 - loss: 0.1189 - val_accuracy: 0.9822 - val_loss: 0.0801\n",
            "Epoch 36/200\n",
            "\u001b[1m71/71\u001b[0m \u001b[32m━━━━━━━━━━━━━━━━━━━━\u001b[0m\u001b[37m\u001b[0m \u001b[1m0s\u001b[0m 2ms/step - accuracy: 0.9713 - loss: 0.1046 - val_accuracy: 0.9804 - val_loss: 0.0894\n",
            "Epoch 37/200\n",
            "\u001b[1m71/71\u001b[0m \u001b[32m━━━━━━━━━━━━━━━━━━━━\u001b[0m\u001b[37m\u001b[0m \u001b[1m0s\u001b[0m 2ms/step - accuracy: 0.9410 - loss: 0.1938 - val_accuracy: 0.9840 - val_loss: 0.0732\n",
            "Epoch 38/200\n",
            "\u001b[1m71/71\u001b[0m \u001b[32m━━━━━━━━━━━━━━━━━━━━\u001b[0m\u001b[37m\u001b[0m \u001b[1m0s\u001b[0m 2ms/step - accuracy: 0.9438 - loss: 0.1660 - val_accuracy: 0.9768 - val_loss: 0.0782\n",
            "Epoch 39/200\n",
            "\u001b[1m71/71\u001b[0m \u001b[32m━━━━━━━━━━━━━━━━━━━━\u001b[0m\u001b[37m\u001b[0m \u001b[1m0s\u001b[0m 2ms/step - accuracy: 0.9494 - loss: 0.1469 - val_accuracy: 0.9804 - val_loss: 0.0799\n",
            "Epoch 40/200\n",
            "\u001b[1m71/71\u001b[0m \u001b[32m━━━━━━━━━━━━━━━━━━━━\u001b[0m\u001b[37m\u001b[0m \u001b[1m0s\u001b[0m 2ms/step - accuracy: 0.9621 - loss: 0.1233 - val_accuracy: 0.9840 - val_loss: 0.0691\n",
            "Epoch 41/200\n",
            "\u001b[1m71/71\u001b[0m \u001b[32m━━━━━━━━━━━━━━━━━━━━\u001b[0m\u001b[37m\u001b[0m \u001b[1m0s\u001b[0m 2ms/step - accuracy: 0.9686 - loss: 0.1034 - val_accuracy: 0.9893 - val_loss: 0.0573\n",
            "Epoch 42/200\n",
            "\u001b[1m71/71\u001b[0m \u001b[32m━━━━━━━━━━━━━━━━━━━━\u001b[0m\u001b[37m\u001b[0m \u001b[1m0s\u001b[0m 2ms/step - accuracy: 0.9605 - loss: 0.1372 - val_accuracy: 0.9822 - val_loss: 0.0697\n",
            "Epoch 43/200\n",
            "\u001b[1m71/71\u001b[0m \u001b[32m━━━━━━━━━━━━━━━━━━━━\u001b[0m\u001b[37m\u001b[0m \u001b[1m0s\u001b[0m 2ms/step - accuracy: 0.9688 - loss: 0.1025 - val_accuracy: 0.9857 - val_loss: 0.0638\n",
            "Epoch 44/200\n",
            "\u001b[1m71/71\u001b[0m \u001b[32m━━━━━━━━━━━━━━━━━━━━\u001b[0m\u001b[37m\u001b[0m \u001b[1m0s\u001b[0m 2ms/step - accuracy: 0.9759 - loss: 0.1001 - val_accuracy: 0.9893 - val_loss: 0.0653\n",
            "Epoch 45/200\n",
            "\u001b[1m71/71\u001b[0m \u001b[32m━━━━━━━━━━━━━━━━━━━━\u001b[0m\u001b[37m\u001b[0m \u001b[1m0s\u001b[0m 2ms/step - accuracy: 0.9668 - loss: 0.1061 - val_accuracy: 0.9857 - val_loss: 0.0625\n",
            "Epoch 46/200\n",
            "\u001b[1m71/71\u001b[0m \u001b[32m━━━━━━━━━━━━━━━━━━━━\u001b[0m\u001b[37m\u001b[0m \u001b[1m0s\u001b[0m 2ms/step - accuracy: 0.9621 - loss: 0.1024 - val_accuracy: 0.9840 - val_loss: 0.0682\n",
            "Epoch 47/200\n",
            "\u001b[1m71/71\u001b[0m \u001b[32m━━━━━━━━━━━━━━━━━━━━\u001b[0m\u001b[37m\u001b[0m \u001b[1m0s\u001b[0m 2ms/step - accuracy: 0.9714 - loss: 0.0921 - val_accuracy: 0.9875 - val_loss: 0.0736\n",
            "Epoch 48/200\n",
            "\u001b[1m71/71\u001b[0m \u001b[32m━━━━━━━━━━━━━━━━━━━━\u001b[0m\u001b[37m\u001b[0m \u001b[1m0s\u001b[0m 2ms/step - accuracy: 0.9739 - loss: 0.0809 - val_accuracy: 0.9857 - val_loss: 0.0618\n",
            "Epoch 49/200\n",
            "\u001b[1m71/71\u001b[0m \u001b[32m━━━━━━━━━━━━━━━━━━━━\u001b[0m\u001b[37m\u001b[0m \u001b[1m0s\u001b[0m 2ms/step - accuracy: 0.9727 - loss: 0.0958 - val_accuracy: 0.9857 - val_loss: 0.0702\n",
            "Epoch 50/200\n",
            "\u001b[1m71/71\u001b[0m \u001b[32m━━━━━━━━━━━━━━━━━━━━\u001b[0m\u001b[37m\u001b[0m \u001b[1m0s\u001b[0m 2ms/step - accuracy: 0.9809 - loss: 0.0675 - val_accuracy: 0.9840 - val_loss: 0.0711\n",
            "Epoch 51/200\n",
            "\u001b[1m71/71\u001b[0m \u001b[32m━━━━━━━━━━━━━━━━━━━━\u001b[0m\u001b[37m\u001b[0m \u001b[1m0s\u001b[0m 2ms/step - accuracy: 0.9714 - loss: 0.0904 - val_accuracy: 0.9804 - val_loss: 0.0887\n",
            "Epoch 52/200\n",
            "\u001b[1m71/71\u001b[0m \u001b[32m━━━━━━━━━━━━━━━━━━━━\u001b[0m\u001b[37m\u001b[0m \u001b[1m0s\u001b[0m 2ms/step - accuracy: 0.9619 - loss: 0.1133 - val_accuracy: 0.9893 - val_loss: 0.0665\n",
            "Epoch 53/200\n",
            "\u001b[1m71/71\u001b[0m \u001b[32m━━━━━━━━━━━━━━━━━━━━\u001b[0m\u001b[37m\u001b[0m \u001b[1m0s\u001b[0m 2ms/step - accuracy: 0.9802 - loss: 0.0700 - val_accuracy: 0.9893 - val_loss: 0.0513\n",
            "Epoch 54/200\n",
            "\u001b[1m71/71\u001b[0m \u001b[32m━━━━━━━━━━━━━━━━━━━━\u001b[0m\u001b[37m\u001b[0m \u001b[1m0s\u001b[0m 2ms/step - accuracy: 0.9713 - loss: 0.0864 - val_accuracy: 0.9857 - val_loss: 0.0577\n",
            "Epoch 55/200\n",
            "\u001b[1m71/71\u001b[0m \u001b[32m━━━━━━━━━━━━━━━━━━━━\u001b[0m\u001b[37m\u001b[0m \u001b[1m0s\u001b[0m 2ms/step - accuracy: 0.9702 - loss: 0.0935 - val_accuracy: 0.9857 - val_loss: 0.0596\n",
            "Epoch 56/200\n",
            "\u001b[1m71/71\u001b[0m \u001b[32m━━━━━━━━━━━━━━━━━━━━\u001b[0m\u001b[37m\u001b[0m \u001b[1m0s\u001b[0m 2ms/step - accuracy: 0.9767 - loss: 0.0871 - val_accuracy: 0.9875 - val_loss: 0.0543\n",
            "Epoch 57/200\n",
            "\u001b[1m71/71\u001b[0m \u001b[32m━━━━━━━━━━━━━━━━━━━━\u001b[0m\u001b[37m\u001b[0m \u001b[1m0s\u001b[0m 2ms/step - accuracy: 0.9748 - loss: 0.0930 - val_accuracy: 0.9857 - val_loss: 0.0828\n",
            "Epoch 58/200\n",
            "\u001b[1m71/71\u001b[0m \u001b[32m━━━━━━━━━━━━━━━━━━━━\u001b[0m\u001b[37m\u001b[0m \u001b[1m0s\u001b[0m 2ms/step - accuracy: 0.9744 - loss: 0.0868 - val_accuracy: 0.9875 - val_loss: 0.0617\n",
            "Epoch 59/200\n",
            "\u001b[1m71/71\u001b[0m \u001b[32m━━━━━━━━━━━━━━━━━━━━\u001b[0m\u001b[37m\u001b[0m \u001b[1m0s\u001b[0m 2ms/step - accuracy: 0.9756 - loss: 0.0889 - val_accuracy: 0.9893 - val_loss: 0.0681\n",
            "Epoch 60/200\n",
            "\u001b[1m71/71\u001b[0m \u001b[32m━━━━━━━━━━━━━━━━━━━━\u001b[0m\u001b[37m\u001b[0m \u001b[1m0s\u001b[0m 2ms/step - accuracy: 0.9667 - loss: 0.1118 - val_accuracy: 0.9840 - val_loss: 0.0896\n",
            "Epoch 61/200\n",
            "\u001b[1m71/71\u001b[0m \u001b[32m━━━━━━━━━━━━━━━━━━━━\u001b[0m\u001b[37m\u001b[0m \u001b[1m0s\u001b[0m 2ms/step - accuracy: 0.9683 - loss: 0.1183 - val_accuracy: 0.9857 - val_loss: 0.0717\n",
            "Epoch 62/200\n",
            "\u001b[1m71/71\u001b[0m \u001b[32m━━━━━━━━━━━━━━━━━━━━\u001b[0m\u001b[37m\u001b[0m \u001b[1m0s\u001b[0m 2ms/step - accuracy: 0.9699 - loss: 0.1121 - val_accuracy: 0.9840 - val_loss: 0.0707\n",
            "Epoch 63/200\n",
            "\u001b[1m71/71\u001b[0m \u001b[32m━━━━━━━━━━━━━━━━━━━━\u001b[0m\u001b[37m\u001b[0m \u001b[1m0s\u001b[0m 2ms/step - accuracy: 0.9696 - loss: 0.0922 - val_accuracy: 0.9857 - val_loss: 0.0834\n",
            "Epoch 64/200\n",
            "\u001b[1m71/71\u001b[0m \u001b[32m━━━━━━━━━━━━━━━━━━━━\u001b[0m\u001b[37m\u001b[0m \u001b[1m0s\u001b[0m 2ms/step - accuracy: 0.9606 - loss: 0.1275 - val_accuracy: 0.9893 - val_loss: 0.0524\n",
            "Epoch 65/200\n",
            "\u001b[1m71/71\u001b[0m \u001b[32m━━━━━━━━━━━━━━━━━━━━\u001b[0m\u001b[37m\u001b[0m \u001b[1m0s\u001b[0m 2ms/step - accuracy: 0.9682 - loss: 0.1092 - val_accuracy: 0.9857 - val_loss: 0.0718\n",
            "Epoch 66/200\n",
            "\u001b[1m71/71\u001b[0m \u001b[32m━━━━━━━━━━━━━━━━━━━━\u001b[0m\u001b[37m\u001b[0m \u001b[1m0s\u001b[0m 2ms/step - accuracy: 0.9709 - loss: 0.0844 - val_accuracy: 0.9840 - val_loss: 0.0749\n",
            "Epoch 67/200\n",
            "\u001b[1m71/71\u001b[0m \u001b[32m━━━━━━━━━━━━━━━━━━━━\u001b[0m\u001b[37m\u001b[0m \u001b[1m0s\u001b[0m 2ms/step - accuracy: 0.9793 - loss: 0.0718 - val_accuracy: 0.9911 - val_loss: 0.0635\n",
            "Epoch 68/200\n",
            "\u001b[1m71/71\u001b[0m \u001b[32m━━━━━━━━━━━━━━━━━━━━\u001b[0m\u001b[37m\u001b[0m \u001b[1m0s\u001b[0m 2ms/step - accuracy: 0.9728 - loss: 0.0777 - val_accuracy: 0.9822 - val_loss: 0.0651\n",
            "Epoch 69/200\n",
            "\u001b[1m71/71\u001b[0m \u001b[32m━━━━━━━━━━━━━━━━━━━━\u001b[0m\u001b[37m\u001b[0m \u001b[1m0s\u001b[0m 2ms/step - accuracy: 0.9695 - loss: 0.1145 - val_accuracy: 0.9715 - val_loss: 0.1345\n",
            "Epoch 70/200\n",
            "\u001b[1m71/71\u001b[0m \u001b[32m━━━━━━━━━━━━━━━━━━━━\u001b[0m\u001b[37m\u001b[0m \u001b[1m0s\u001b[0m 2ms/step - accuracy: 0.9793 - loss: 0.0794 - val_accuracy: 0.9893 - val_loss: 0.0670\n",
            "Epoch 71/200\n",
            "\u001b[1m71/71\u001b[0m \u001b[32m━━━━━━━━━━━━━━━━━━━━\u001b[0m\u001b[37m\u001b[0m \u001b[1m0s\u001b[0m 2ms/step - accuracy: 0.9797 - loss: 0.0656 - val_accuracy: 0.9840 - val_loss: 0.0804\n",
            "Epoch 72/200\n",
            "\u001b[1m71/71\u001b[0m \u001b[32m━━━━━━━━━━━━━━━━━━━━\u001b[0m\u001b[37m\u001b[0m \u001b[1m0s\u001b[0m 2ms/step - accuracy: 0.9701 - loss: 0.0911 - val_accuracy: 0.9893 - val_loss: 0.0671\n",
            "Epoch 73/200\n",
            "\u001b[1m71/71\u001b[0m \u001b[32m━━━━━━━━━━━━━━━━━━━━\u001b[0m\u001b[37m\u001b[0m \u001b[1m0s\u001b[0m 2ms/step - accuracy: 0.9860 - loss: 0.0607 - val_accuracy: 0.9875 - val_loss: 0.0766\n",
            "18/18 - 0s - 2ms/step - accuracy: 0.9893 - loss: 0.0513\n"
          ]
        },
        {
          "data": {
            "text/plain": [
              "[0.05126647651195526, 0.9893048405647278]"
            ]
          },
          "execution_count": 55,
          "metadata": {},
          "output_type": "execute_result"
        }
      ],
      "source": [
        "early_stopping = EarlyStopping(monitor='val_loss', patience=20, restore_best_weights=True) # Early Stopping to prevent overflow\n",
        "model.fit(x_train, y_train, epochs=200, callbacks=[early_stopping], validation_data=(x_test, y_test))\n",
        "model.evaluate(x_test, y_test, verbose=2) "
      ]
    },
    {
      "cell_type": "code",
      "execution_count": 56,
      "metadata": {},
      "outputs": [
        {
          "name": "stderr",
          "output_type": "stream",
          "text": [
            "WARNING:absl:You are saving your model as an HDF5 file via `model.save()` or `keras.saving.save_model(model)`. This file format is considered legacy. We recommend using instead the native Keras format, e.g. `model.save('my_model.keras')` or `keras.saving.save_model(model, 'my_model.keras')`. \n"
          ]
        }
      ],
      "source": [
        "model.save(\"SignLanguage10C1.h5\")"
      ]
    }
  ],
  "metadata": {
    "accelerator": "GPU",
    "colab": {
      "gpuType": "T4",
      "provenance": []
    },
    "kernelspec": {
      "display_name": "Python 3",
      "name": "python3"
    },
    "language_info": {
      "codemirror_mode": {
        "name": "ipython",
        "version": 3
      },
      "file_extension": ".py",
      "mimetype": "text/x-python",
      "name": "python",
      "nbconvert_exporter": "python",
      "pygments_lexer": "ipython3",
      "version": "3.10.6"
    }
  },
  "nbformat": 4,
  "nbformat_minor": 0
}
